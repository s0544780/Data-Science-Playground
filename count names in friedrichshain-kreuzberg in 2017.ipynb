{
 "cells": [
  {
   "cell_type": "code",
   "execution_count": 2,
   "metadata": {
    "collapsed": false
   },
   "outputs": [],
   "source": [
    "from pyspark import SparkContext, SparkConf\n",
    "conf = SparkConf().setAppName(\"CountNames\").setMaster(\"local\")\n",
    "sc = SparkContext(conf=conf)"
   ]
  },
  {
   "cell_type": "code",
   "execution_count": 3,
   "metadata": {
    "collapsed": true
   },
   "outputs": [],
   "source": [
    "rdd = sc.textFile(\"friedrichshain-kreuzberg.csv\")"
   ]
  },
  {
   "cell_type": "code",
   "execution_count": 4,
   "metadata": {
    "collapsed": false
   },
   "outputs": [
    {
     "data": {
      "text/plain": [
       "['vorname;anzahl;geschlecht;position',\n",
       " 'Marie;47;w;2',\n",
       " 'Maria;41;w;2',\n",
       " 'Sophie;36;w;2',\n",
       " 'Emil;36;m;1']"
      ]
     },
     "execution_count": 4,
     "metadata": {},
     "output_type": "execute_result"
    }
   ],
   "source": [
    "rdd.take(5)"
   ]
  },
  {
   "cell_type": "code",
   "execution_count": 40,
   "metadata": {
    "collapsed": false
   },
   "outputs": [
    {
     "data": {
      "text/plain": [
       "[['Aaliyah', '1', 'w', '1'],\n",
       " ['Achilea', '1', 'w', '1'],\n",
       " ['Addae-Clara', '1', 'w', '1'],\n",
       " ['Addison', '1', 'w', '1'],\n",
       " ['Adele', '1', 'w', '1'],\n",
       " ['Adelia', '1', 'w', '1'],\n",
       " ['Adelina', '1', 'w', '1'],\n",
       " ['Adéle-Melinda', '1', 'w', '1'],\n",
       " ['Agata', '1', 'w', '1'],\n",
       " ['Aileen', '1', 'w', '1'],\n",
       " ['Aimée', '1', 'w', '1'],\n",
       " ['Aino', '1', 'w', '1'],\n",
       " ['Aischa', '1', 'w', '1'],\n",
       " ['Aisha', '1', 'w', '1'],\n",
       " ['Aitana', '1', 'w', '1'],\n",
       " ['Aiyana', '1', 'w', '1'],\n",
       " ['Aişe', '1', 'w', '1'],\n",
       " ['Akari', '1', 'w', '1'],\n",
       " ['Alaa', '1', 'w', '1'],\n",
       " ['Alayah', '1', 'w', '1']]"
      ]
     },
     "execution_count": 40,
     "metadata": {},
     "output_type": "execute_result"
    }
   ],
   "source": [
    "rdd\\\n",
    "        .map(lambda x: x.split(\";\"))\\\n",
    "        .filter(lambda x: x[2] == 'w')\\\n",
    "        .filter(lambda x: x[3] == '1')\\\n",
    "        .filter(lambda x: int(x[1]) == 1)\\\n",
    "        .take(20)"
   ]
  }
 ],
 "metadata": {
  "kernelspec": {
   "display_name": "Python 3",
   "language": "python",
   "name": "python3"
  },
  "language_info": {
   "codemirror_mode": {
    "name": "ipython",
    "version": 3
   },
   "file_extension": ".py",
   "mimetype": "text/x-python",
   "name": "python",
   "nbconvert_exporter": "python",
   "pygments_lexer": "ipython3",
   "version": "3.5.2"
  }
 },
 "nbformat": 4,
 "nbformat_minor": 0
}
